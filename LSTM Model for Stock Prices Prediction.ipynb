{
 "cells": [
  {
   "cell_type": "code",
   "execution_count": 1,
   "metadata": {},
   "outputs": [],
   "source": [
    "import pandas as pd\n",
    "import numpy as np"
   ]
  },
  {
   "cell_type": "code",
   "execution_count": 2,
   "metadata": {},
   "outputs": [],
   "source": [
    "df=pd.read_csv(\"TSLA.csv\")"
   ]
  },
  {
   "cell_type": "code",
   "execution_count": 3,
   "metadata": {},
   "outputs": [
    {
     "data": {
      "text/plain": [
       "(1259, 7)"
      ]
     },
     "execution_count": 3,
     "metadata": {},
     "output_type": "execute_result"
    }
   ],
   "source": [
    "df.shape"
   ]
  },
  {
   "cell_type": "code",
   "execution_count": 4,
   "metadata": {},
   "outputs": [
    {
     "name": "stdout",
     "output_type": "stream",
     "text": [
      "<class 'pandas.core.frame.DataFrame'>\n",
      "RangeIndex: 1259 entries, 0 to 1258\n",
      "Data columns (total 7 columns):\n",
      " #   Column     Non-Null Count  Dtype  \n",
      "---  ------     --------------  -----  \n",
      " 0   Date       1259 non-null   object \n",
      " 1   Open       1259 non-null   float64\n",
      " 2   High       1259 non-null   float64\n",
      " 3   Low        1259 non-null   float64\n",
      " 4   Close      1259 non-null   float64\n",
      " 5   Adj Close  1259 non-null   float64\n",
      " 6   Volume     1259 non-null   int64  \n",
      "dtypes: float64(5), int64(1), object(1)\n",
      "memory usage: 69.0+ KB\n"
     ]
    }
   ],
   "source": [
    "df.info()"
   ]
  },
  {
   "cell_type": "code",
   "execution_count": 5,
   "metadata": {},
   "outputs": [
    {
     "data": {
      "text/html": [
       "<div>\n",
       "<style scoped>\n",
       "    .dataframe tbody tr th:only-of-type {\n",
       "        vertical-align: middle;\n",
       "    }\n",
       "\n",
       "    .dataframe tbody tr th {\n",
       "        vertical-align: top;\n",
       "    }\n",
       "\n",
       "    .dataframe thead th {\n",
       "        text-align: right;\n",
       "    }\n",
       "</style>\n",
       "<table border=\"1\" class=\"dataframe\">\n",
       "  <thead>\n",
       "    <tr style=\"text-align: right;\">\n",
       "      <th></th>\n",
       "      <th>Date</th>\n",
       "      <th>Open</th>\n",
       "      <th>High</th>\n",
       "      <th>Low</th>\n",
       "      <th>Close</th>\n",
       "      <th>Adj Close</th>\n",
       "      <th>Volume</th>\n",
       "    </tr>\n",
       "  </thead>\n",
       "  <tbody>\n",
       "    <tr>\n",
       "      <th>0</th>\n",
       "      <td>2015-07-10</td>\n",
       "      <td>52.444000</td>\n",
       "      <td>52.599998</td>\n",
       "      <td>51.563999</td>\n",
       "      <td>51.830002</td>\n",
       "      <td>51.830002</td>\n",
       "      <td>13054500</td>\n",
       "    </tr>\n",
       "    <tr>\n",
       "      <th>1</th>\n",
       "      <td>2015-07-13</td>\n",
       "      <td>52.450001</td>\n",
       "      <td>52.509998</td>\n",
       "      <td>51.209999</td>\n",
       "      <td>52.431999</td>\n",
       "      <td>52.431999</td>\n",
       "      <td>14801500</td>\n",
       "    </tr>\n",
       "    <tr>\n",
       "      <th>2</th>\n",
       "      <td>2015-07-14</td>\n",
       "      <td>52.419998</td>\n",
       "      <td>53.198002</td>\n",
       "      <td>52.102001</td>\n",
       "      <td>53.130001</td>\n",
       "      <td>53.130001</td>\n",
       "      <td>9538000</td>\n",
       "    </tr>\n",
       "    <tr>\n",
       "      <th>3</th>\n",
       "      <td>2015-07-15</td>\n",
       "      <td>53.348000</td>\n",
       "      <td>53.498001</td>\n",
       "      <td>52.416000</td>\n",
       "      <td>52.627998</td>\n",
       "      <td>52.627998</td>\n",
       "      <td>10108000</td>\n",
       "    </tr>\n",
       "    <tr>\n",
       "      <th>4</th>\n",
       "      <td>2015-07-16</td>\n",
       "      <td>52.844002</td>\n",
       "      <td>53.439999</td>\n",
       "      <td>52.632000</td>\n",
       "      <td>53.335999</td>\n",
       "      <td>53.335999</td>\n",
       "      <td>8080000</td>\n",
       "    </tr>\n",
       "    <tr>\n",
       "      <th>...</th>\n",
       "      <td>...</td>\n",
       "      <td>...</td>\n",
       "      <td>...</td>\n",
       "      <td>...</td>\n",
       "      <td>...</td>\n",
       "      <td>...</td>\n",
       "      <td>...</td>\n",
       "    </tr>\n",
       "    <tr>\n",
       "      <th>1254</th>\n",
       "      <td>2020-07-02</td>\n",
       "      <td>244.296005</td>\n",
       "      <td>245.600006</td>\n",
       "      <td>237.119995</td>\n",
       "      <td>241.731995</td>\n",
       "      <td>241.731995</td>\n",
       "      <td>86250500</td>\n",
       "    </tr>\n",
       "    <tr>\n",
       "      <th>1255</th>\n",
       "      <td>2020-07-06</td>\n",
       "      <td>255.337997</td>\n",
       "      <td>275.558014</td>\n",
       "      <td>253.207993</td>\n",
       "      <td>274.316010</td>\n",
       "      <td>274.316010</td>\n",
       "      <td>102849500</td>\n",
       "    </tr>\n",
       "    <tr>\n",
       "      <th>1256</th>\n",
       "      <td>2020-07-07</td>\n",
       "      <td>281.002014</td>\n",
       "      <td>285.899994</td>\n",
       "      <td>267.342010</td>\n",
       "      <td>277.971985</td>\n",
       "      <td>277.971985</td>\n",
       "      <td>107448500</td>\n",
       "    </tr>\n",
       "    <tr>\n",
       "      <th>1257</th>\n",
       "      <td>2020-07-08</td>\n",
       "      <td>281.000000</td>\n",
       "      <td>283.451996</td>\n",
       "      <td>262.268005</td>\n",
       "      <td>273.175995</td>\n",
       "      <td>273.175995</td>\n",
       "      <td>81556500</td>\n",
       "    </tr>\n",
       "    <tr>\n",
       "      <th>1258</th>\n",
       "      <td>2020-07-09</td>\n",
       "      <td>279.398010</td>\n",
       "      <td>281.712006</td>\n",
       "      <td>270.256012</td>\n",
       "      <td>278.855988</td>\n",
       "      <td>278.855988</td>\n",
       "      <td>58588000</td>\n",
       "    </tr>\n",
       "  </tbody>\n",
       "</table>\n",
       "<p>1259 rows × 7 columns</p>\n",
       "</div>"
      ],
      "text/plain": [
       "            Date        Open        High         Low       Close   Adj Close  \\\n",
       "0     2015-07-10   52.444000   52.599998   51.563999   51.830002   51.830002   \n",
       "1     2015-07-13   52.450001   52.509998   51.209999   52.431999   52.431999   \n",
       "2     2015-07-14   52.419998   53.198002   52.102001   53.130001   53.130001   \n",
       "3     2015-07-15   53.348000   53.498001   52.416000   52.627998   52.627998   \n",
       "4     2015-07-16   52.844002   53.439999   52.632000   53.335999   53.335999   \n",
       "...          ...         ...         ...         ...         ...         ...   \n",
       "1254  2020-07-02  244.296005  245.600006  237.119995  241.731995  241.731995   \n",
       "1255  2020-07-06  255.337997  275.558014  253.207993  274.316010  274.316010   \n",
       "1256  2020-07-07  281.002014  285.899994  267.342010  277.971985  277.971985   \n",
       "1257  2020-07-08  281.000000  283.451996  262.268005  273.175995  273.175995   \n",
       "1258  2020-07-09  279.398010  281.712006  270.256012  278.855988  278.855988   \n",
       "\n",
       "         Volume  \n",
       "0      13054500  \n",
       "1      14801500  \n",
       "2       9538000  \n",
       "3      10108000  \n",
       "4       8080000  \n",
       "...         ...  \n",
       "1254   86250500  \n",
       "1255  102849500  \n",
       "1256  107448500  \n",
       "1257   81556500  \n",
       "1258   58588000  \n",
       "\n",
       "[1259 rows x 7 columns]"
      ]
     },
     "execution_count": 5,
     "metadata": {},
     "output_type": "execute_result"
    }
   ],
   "source": [
    "df.sort_values(by=['Date'])"
   ]
  },
  {
   "cell_type": "code",
   "execution_count": 6,
   "metadata": {},
   "outputs": [],
   "source": [
    "#Only date and closing value needed\n",
    "\n",
    "df1= df"
   ]
  },
  {
   "cell_type": "code",
   "execution_count": 7,
   "metadata": {},
   "outputs": [],
   "source": [
    "df1.drop(columns=['Open', 'High', 'Low', 'Adj Close', 'Volume'], axis=1, inplace=True)"
   ]
  },
  {
   "cell_type": "code",
   "execution_count": 8,
   "metadata": {},
   "outputs": [
    {
     "data": {
      "text/html": [
       "<div>\n",
       "<style scoped>\n",
       "    .dataframe tbody tr th:only-of-type {\n",
       "        vertical-align: middle;\n",
       "    }\n",
       "\n",
       "    .dataframe tbody tr th {\n",
       "        vertical-align: top;\n",
       "    }\n",
       "\n",
       "    .dataframe thead th {\n",
       "        text-align: right;\n",
       "    }\n",
       "</style>\n",
       "<table border=\"1\" class=\"dataframe\">\n",
       "  <thead>\n",
       "    <tr style=\"text-align: right;\">\n",
       "      <th></th>\n",
       "      <th>Date</th>\n",
       "      <th>Close</th>\n",
       "    </tr>\n",
       "  </thead>\n",
       "  <tbody>\n",
       "    <tr>\n",
       "      <th>0</th>\n",
       "      <td>2015-07-10</td>\n",
       "      <td>51.830002</td>\n",
       "    </tr>\n",
       "    <tr>\n",
       "      <th>1</th>\n",
       "      <td>2015-07-13</td>\n",
       "      <td>52.431999</td>\n",
       "    </tr>\n",
       "    <tr>\n",
       "      <th>2</th>\n",
       "      <td>2015-07-14</td>\n",
       "      <td>53.130001</td>\n",
       "    </tr>\n",
       "    <tr>\n",
       "      <th>3</th>\n",
       "      <td>2015-07-15</td>\n",
       "      <td>52.627998</td>\n",
       "    </tr>\n",
       "    <tr>\n",
       "      <th>4</th>\n",
       "      <td>2015-07-16</td>\n",
       "      <td>53.335999</td>\n",
       "    </tr>\n",
       "    <tr>\n",
       "      <th>...</th>\n",
       "      <td>...</td>\n",
       "      <td>...</td>\n",
       "    </tr>\n",
       "    <tr>\n",
       "      <th>1254</th>\n",
       "      <td>2020-07-02</td>\n",
       "      <td>241.731995</td>\n",
       "    </tr>\n",
       "    <tr>\n",
       "      <th>1255</th>\n",
       "      <td>2020-07-06</td>\n",
       "      <td>274.316010</td>\n",
       "    </tr>\n",
       "    <tr>\n",
       "      <th>1256</th>\n",
       "      <td>2020-07-07</td>\n",
       "      <td>277.971985</td>\n",
       "    </tr>\n",
       "    <tr>\n",
       "      <th>1257</th>\n",
       "      <td>2020-07-08</td>\n",
       "      <td>273.175995</td>\n",
       "    </tr>\n",
       "    <tr>\n",
       "      <th>1258</th>\n",
       "      <td>2020-07-09</td>\n",
       "      <td>278.855988</td>\n",
       "    </tr>\n",
       "  </tbody>\n",
       "</table>\n",
       "<p>1259 rows × 2 columns</p>\n",
       "</div>"
      ],
      "text/plain": [
       "            Date       Close\n",
       "0     2015-07-10   51.830002\n",
       "1     2015-07-13   52.431999\n",
       "2     2015-07-14   53.130001\n",
       "3     2015-07-15   52.627998\n",
       "4     2015-07-16   53.335999\n",
       "...          ...         ...\n",
       "1254  2020-07-02  241.731995\n",
       "1255  2020-07-06  274.316010\n",
       "1256  2020-07-07  277.971985\n",
       "1257  2020-07-08  273.175995\n",
       "1258  2020-07-09  278.855988\n",
       "\n",
       "[1259 rows x 2 columns]"
      ]
     },
     "execution_count": 8,
     "metadata": {},
     "output_type": "execute_result"
    }
   ],
   "source": [
    "df1"
   ]
  },
  {
   "cell_type": "code",
   "execution_count": 9,
   "metadata": {},
   "outputs": [],
   "source": [
    "import matplotlib.pyplot as plt"
   ]
  },
  {
   "cell_type": "code",
   "execution_count": 10,
   "metadata": {},
   "outputs": [
    {
     "data": {
      "image/png": "[encoded data removed]",
      "text/plain": [
       "<Figure size 1152x576 with 1 Axes>"
      ]
     },
     "metadata": {
      "needs_background": "light"
     },
     "output_type": "display_data"
    }
   ],
   "source": [
    "#Visualize the closing price history of training set using the library matplotlib.pyplot\n",
    "\n",
    "plt.figure(figsize=(16,8))\n",
    "plt.title('Close Price History')\n",
    "plt.plot(df1['Date'],df1['Close'])\n",
    "plt.xlabel('Date', fontsize=18)\n",
    "plt.ylabel('Close Price', fontsize=18)\n",
    "plt.show()"
   ]
  },
  {
   "cell_type": "code",
   "execution_count": 11,
   "metadata": {},
   "outputs": [],
   "source": [
    "#Create a new dataframe with only the 'Close' column\n",
    "\n",
    "data=df1.filter(['Close'])"
   ]
  },
  {
   "cell_type": "code",
   "execution_count": 12,
   "metadata": {},
   "outputs": [],
   "source": [
    "#Convert the dataframe to a NumPy array\n",
    "\n",
    "dataset=data.values"
   ]
  },
  {
   "cell_type": "code",
   "execution_count": 13,
   "metadata": {},
   "outputs": [],
   "source": [
    "from sklearn.preprocessing import MinMaxScaler"
   ]
  },
  {
   "cell_type": "code",
   "execution_count": 14,
   "metadata": {},
   "outputs": [],
   "source": [
    "#Scale the data using MinMax Scaler\n",
    "\n",
    "scaler = MinMaxScaler(feature_range=(0,1))"
   ]
  },
  {
   "cell_type": "code",
   "execution_count": 15,
   "metadata": {},
   "outputs": [],
   "source": [
    "scaled_data= scaler.fit_transform(dataset);"
   ]
  },
  {
   "cell_type": "code",
   "execution_count": 16,
   "metadata": {},
   "outputs": [
    {
     "data": {
      "text/plain": [
       "array([[0.09233895],\n",
       "       [0.09474577],\n",
       "       [0.09753641],\n",
       "       ...,\n",
       "       [0.99646571],\n",
       "       [0.97729111],\n",
       "       [1.        ]])"
      ]
     },
     "execution_count": 16,
     "metadata": {},
     "output_type": "execute_result"
    }
   ],
   "source": [
    "scaled_data"
   ]
  },
  {
   "cell_type": "code",
   "execution_count": 17,
   "metadata": {},
   "outputs": [],
   "source": [
    "#Create the scaled training dataset\n",
    "\n",
    "train_set = scaled_data[0:1000, :]"
   ]
  },
  {
   "cell_type": "code",
   "execution_count": 18,
   "metadata": {},
   "outputs": [],
   "source": [
    "#Split the data into X_train and y_train data sets\n",
    "\n",
    "X_train=[]\n",
    "y_train=[]"
   ]
  },
  {
   "cell_type": "code",
   "execution_count": 19,
   "metadata": {},
   "outputs": [],
   "source": [
    "for i in range(60, 1000):\n",
    "    X_train.append(train_set[i-60:i, 0])\n",
    "    y_train.append(train_set[i, 0])"
   ]
  },
  {
   "cell_type": "code",
   "execution_count": 20,
   "metadata": {},
   "outputs": [],
   "source": [
    "#Convert the x_train to NumPy array\n",
    "\n",
    "X_train= np.array(X_train)"
   ]
  },
  {
   "cell_type": "code",
   "execution_count": 21,
   "metadata": {},
   "outputs": [],
   "source": [
    "#Convert the y_train to NumPy array\n",
    "\n",
    "y_train= np.array(y_train)"
   ]
  },
  {
   "cell_type": "code",
   "execution_count": 22,
   "metadata": {},
   "outputs": [],
   "source": [
    "#Reshape the data\n",
    "\n",
    "X_train= np.reshape(X_train, (X_train.shape[0], X_train.shape[1], 1))"
   ]
  },
  {
   "cell_type": "code",
   "execution_count": 23,
   "metadata": {},
   "outputs": [
    {
     "data": {
      "text/plain": [
       "(940, 60, 1)"
      ]
     },
     "execution_count": 23,
     "metadata": {},
     "output_type": "execute_result"
    }
   ],
   "source": [
    "X_train.shape    #converted into 3-D"
   ]
  },
  {
   "cell_type": "code",
   "execution_count": 24,
   "metadata": {},
   "outputs": [],
   "source": [
    "from keras.models import Sequential\n",
    "from keras.layers import Dense, LSTM"
   ]
  },
  {
   "cell_type": "code",
   "execution_count": 25,
   "metadata": {},
   "outputs": [],
   "source": [
    "#Build the LSTM model\n",
    "model=Sequential()\n",
    "model.add(LSTM(50, return_sequences=True, input_shape= (X_train.shape[1],1)))\n",
    "model.add(LSTM(50, return_sequences=False))\n",
    "model.add(Dense(25))\n",
    "model.add(Dense(1))"
   ]
  },
  {
   "cell_type": "code",
   "execution_count": 26,
   "metadata": {},
   "outputs": [],
   "source": [
    "#Compile the model\n",
    "\n",
    "model.compile(optimizer='adam', loss='mean_squared_error')"
   ]
  },
  {
   "cell_type": "code",
   "execution_count": 27,
   "metadata": {},
   "outputs": [
    {
     "name": "stdout",
     "output_type": "stream",
     "text": [
      "Epoch 1/100\n",
      "30/30 [==============================] - 16s 105ms/step - loss: 0.0041\n",
      "Epoch 2/100\n",
      "30/30 [==============================] - 3s 109ms/step - loss: 4.8573e-04\n",
      "Epoch 3/100\n",
      "30/30 [==============================] - 4s 127ms/step - loss: 1.9791e-04\n",
      "Epoch 4/100\n",
      "30/30 [==============================] - 3s 116ms/step - loss: 2.0974e-04\n",
      "Epoch 5/100\n",
      "30/30 [==============================] - 3s 109ms/step - loss: 2.0416e-04\n",
      "Epoch 6/100\n",
      "30/30 [==============================] - 4s 117ms/step - loss: 1.6618e-04\n",
      "Epoch 7/100\n",
      "30/30 [==============================] - 4s 127ms/step - loss: 1.6291e-04\n",
      "Epoch 8/100\n",
      "30/30 [==============================] - 4s 119ms/step - loss: 1.5619e-04\n",
      "Epoch 9/100\n",
      "30/30 [==============================] - 3s 114ms/step - loss: 1.7866e-04\n",
      "Epoch 10/100\n",
      "30/30 [==============================] - 3s 114ms/step - loss: 1.3816e-04\n",
      "Epoch 11/100\n",
      "30/30 [==============================] - 4s 131ms/step - loss: 1.2337e-04\n",
      "Epoch 12/100\n",
      "30/30 [==============================] - 4s 122ms/step - loss: 1.2809e-04\n",
      "Epoch 13/100\n",
      "30/30 [==============================] - 4s 130ms/step - loss: 1.3157e-04\n",
      "Epoch 14/100\n",
      "30/30 [==============================] - 5s 156ms/step - loss: 1.2553e-04\n",
      "Epoch 15/100\n",
      "30/30 [==============================] - 4s 142ms/step - loss: 1.0819e-04\n",
      "Epoch 16/100\n",
      "30/30 [==============================] - 4s 123ms/step - loss: 1.0048e-04\n",
      "Epoch 17/100\n",
      "30/30 [==============================] - 4s 136ms/step - loss: 9.1817e-05\n",
      "Epoch 18/100\n",
      "30/30 [==============================] - 3s 114ms/step - loss: 9.1395e-05\n",
      "Epoch 19/100\n",
      "30/30 [==============================] - 3s 115ms/step - loss: 9.8308e-05\n",
      "Epoch 20/100\n",
      "30/30 [==============================] - 3s 116ms/step - loss: 9.1463e-05\n",
      "Epoch 21/100\n",
      "30/30 [==============================] - 5s 151ms/step - loss: 8.3945e-05\n",
      "Epoch 22/100\n",
      "30/30 [==============================] - 5s 155ms/step - loss: 8.4687e-05\n",
      "Epoch 23/100\n",
      "30/30 [==============================] - 6s 198ms/step - loss: 7.8200e-05\n",
      "Epoch 24/100\n",
      "30/30 [==============================] - 5s 157ms/step - loss: 8.5869e-05\n",
      "Epoch 25/100\n",
      "30/30 [==============================] - 5s 163ms/step - loss: 8.1106e-05\n",
      "Epoch 26/100\n",
      "30/30 [==============================] - 6s 190ms/step - loss: 7.4909e-05\n",
      "Epoch 27/100\n",
      "30/30 [==============================] - 5s 159ms/step - loss: 6.5974e-05\n",
      "Epoch 28/100\n",
      "30/30 [==============================] - 6s 192ms/step - loss: 7.1107e-05\n",
      "Epoch 29/100\n",
      "30/30 [==============================] - 4s 148ms/step - loss: 7.5869e-05\n",
      "Epoch 30/100\n",
      "30/30 [==============================] - 4s 131ms/step - loss: 6.8684e-05\n",
      "Epoch 31/100\n",
      "30/30 [==============================] - 4s 134ms/step - loss: 7.1296e-05\n",
      "Epoch 32/100\n",
      "30/30 [==============================] - 4s 117ms/step - loss: 6.2938e-05\n",
      "Epoch 33/100\n",
      "30/30 [==============================] - 3s 114ms/step - loss: 6.6135e-05\n",
      "Epoch 34/100\n",
      "30/30 [==============================] - 3s 106ms/step - loss: 7.2440e-05\n",
      "Epoch 35/100\n",
      "30/30 [==============================] - 3s 111ms/step - loss: 5.8608e-05\n",
      "Epoch 36/100\n",
      "30/30 [==============================] - 4s 121ms/step - loss: 5.4545e-05\n",
      "Epoch 37/100\n",
      "30/30 [==============================] - 4s 119ms/step - loss: 5.7781e-05\n",
      "Epoch 38/100\n",
      "30/30 [==============================] - 4s 117ms/step - loss: 5.4914e-05\n",
      "Epoch 39/100\n",
      "30/30 [==============================] - 3s 110ms/step - loss: 5.8731e-05\n",
      "Epoch 40/100\n",
      "30/30 [==============================] - 3s 109ms/step - loss: 5.4708e-05\n",
      "Epoch 41/100\n",
      "30/30 [==============================] - 3s 108ms/step - loss: 5.3680e-05\n",
      "Epoch 42/100\n",
      "30/30 [==============================] - 3s 110ms/step - loss: 5.4180e-05\n",
      "Epoch 43/100\n",
      "30/30 [==============================] - 4s 127ms/step - loss: 5.5967e-05\n",
      "Epoch 44/100\n",
      "30/30 [==============================] - 5s 161ms/step - loss: 5.5387e-05\n",
      "Epoch 45/100\n",
      "30/30 [==============================] - 4s 139ms/step - loss: 5.6591e-05\n",
      "Epoch 46/100\n",
      "30/30 [==============================] - 4s 121ms/step - loss: 5.5418e-05\n",
      "Epoch 47/100\n",
      "30/30 [==============================] - 3s 110ms/step - loss: 5.2594e-05\n",
      "Epoch 48/100\n",
      "30/30 [==============================] - 3s 110ms/step - loss: 4.9544e-05\n",
      "Epoch 49/100\n",
      "30/30 [==============================] - 3s 110ms/step - loss: 4.9721e-05\n",
      "Epoch 50/100\n",
      "30/30 [==============================] - 3s 109ms/step - loss: 5.6892e-05\n",
      "Epoch 51/100\n",
      "30/30 [==============================] - 3s 110ms/step - loss: 4.5382e-05\n",
      "Epoch 52/100\n",
      "30/30 [==============================] - 3s 109ms/step - loss: 5.2972e-05\n",
      "Epoch 53/100\n",
      "30/30 [==============================] - 3s 109ms/step - loss: 6.2911e-05\n",
      "Epoch 54/100\n",
      "30/30 [==============================] - 3s 109ms/step - loss: 5.5451e-05\n",
      "Epoch 55/100\n",
      "30/30 [==============================] - 3s 108ms/step - loss: 6.2733e-05\n",
      "Epoch 56/100\n",
      "30/30 [==============================] - 3s 108ms/step - loss: 4.7871e-05\n",
      "Epoch 57/100\n",
      "30/30 [==============================] - 3s 108ms/step - loss: 4.3602e-05\n",
      "Epoch 58/100\n",
      "30/30 [==============================] - 3s 109ms/step - loss: 4.3978e-05\n",
      "Epoch 59/100\n",
      "30/30 [==============================] - 3s 109ms/step - loss: 4.7721e-05\n",
      "Epoch 60/100\n",
      "30/30 [==============================] - 3s 108ms/step - loss: 5.2635e-05\n",
      "Epoch 61/100\n",
      "30/30 [==============================] - 3s 109ms/step - loss: 5.8734e-05\n",
      "Epoch 62/100\n",
      "30/30 [==============================] - 3s 108ms/step - loss: 3.9192e-05\n",
      "Epoch 63/100\n",
      "30/30 [==============================] - 3s 109ms/step - loss: 4.6600e-05\n",
      "Epoch 64/100\n",
      "30/30 [==============================] - 3s 109ms/step - loss: 4.5482e-05\n",
      "Epoch 65/100\n",
      "30/30 [==============================] - 3s 109ms/step - loss: 6.2769e-05\n",
      "Epoch 66/100\n",
      "30/30 [==============================] - 3s 108ms/step - loss: 5.7245e-05\n",
      "Epoch 67/100\n",
      "30/30 [==============================] - 3s 110ms/step - loss: 4.4225e-05\n",
      "Epoch 68/100\n",
      "30/30 [==============================] - 3s 108ms/step - loss: 4.3968e-05\n",
      "Epoch 69/100\n",
      "30/30 [==============================] - 3s 108ms/step - loss: 4.2897e-05\n",
      "Epoch 70/100\n",
      "30/30 [==============================] - 3s 109ms/step - loss: 4.3843e-05\n",
      "Epoch 71/100\n",
      "30/30 [==============================] - 3s 111ms/step - loss: 4.5434e-05\n",
      "Epoch 72/100\n",
      "30/30 [==============================] - 3s 109ms/step - loss: 4.5165e-05\n",
      "Epoch 73/100\n",
      "30/30 [==============================] - 3s 109ms/step - loss: 5.5382e-05\n",
      "Epoch 74/100\n",
      "30/30 [==============================] - 3s 110ms/step - loss: 4.5215e-05\n",
      "Epoch 75/100\n",
      "30/30 [==============================] - 3s 108ms/step - loss: 4.8450e-05\n",
      "Epoch 76/100\n",
      "30/30 [==============================] - 3s 108ms/step - loss: 5.4855e-05\n",
      "Epoch 77/100\n",
      "30/30 [==============================] - 3s 109ms/step - loss: 7.2658e-05\n",
      "Epoch 78/100\n",
      "30/30 [==============================] - 3s 109ms/step - loss: 4.1117e-05\n",
      "Epoch 79/100\n",
      "30/30 [==============================] - 3s 110ms/step - loss: 5.5906e-05\n",
      "Epoch 80/100\n",
      "30/30 [==============================] - 3s 109ms/step - loss: 4.5948e-05\n",
      "Epoch 81/100\n",
      "30/30 [==============================] - 3s 109ms/step - loss: 4.3466e-05\n",
      "Epoch 82/100\n",
      "30/30 [==============================] - 3s 111ms/step - loss: 4.7596e-05\n",
      "Epoch 83/100\n",
      "30/30 [==============================] - 3s 110ms/step - loss: 4.3070e-05\n",
      "Epoch 84/100\n",
      "30/30 [==============================] - 3s 109ms/step - loss: 4.8107e-05\n",
      "Epoch 85/100\n",
      "30/30 [==============================] - 3s 109ms/step - loss: 4.0964e-05\n",
      "Epoch 86/100\n",
      "30/30 [==============================] - 3s 109ms/step - loss: 5.8218e-05\n",
      "Epoch 87/100\n",
      "30/30 [==============================] - 3s 110ms/step - loss: 4.4991e-05\n",
      "Epoch 88/100\n",
      "30/30 [==============================] - 3s 109ms/step - loss: 5.1391e-05\n",
      "Epoch 89/100\n",
      "30/30 [==============================] - 3s 109ms/step - loss: 5.1429e-05\n",
      "Epoch 90/100\n",
      "30/30 [==============================] - 3s 109ms/step - loss: 4.5133e-05\n",
      "Epoch 91/100\n",
      "30/30 [==============================] - 3s 109ms/step - loss: 3.6301e-05\n",
      "Epoch 92/100\n",
      "30/30 [==============================] - 3s 109ms/step - loss: 4.5371e-05\n",
      "Epoch 93/100\n",
      "30/30 [==============================] - 3s 109ms/step - loss: 5.6119e-05\n",
      "Epoch 94/100\n",
      "30/30 [==============================] - 3s 109ms/step - loss: 4.6589e-05\n",
      "Epoch 95/100\n",
      "30/30 [==============================] - 3s 108ms/step - loss: 4.9757e-05\n",
      "Epoch 96/100\n",
      "30/30 [==============================] - 3s 108ms/step - loss: 4.0806e-05\n",
      "Epoch 97/100\n",
      "30/30 [==============================] - 3s 108ms/step - loss: 4.3100e-05\n",
      "Epoch 98/100\n",
      "30/30 [==============================] - 3s 111ms/step - loss: 4.1463e-05\n",
      "Epoch 99/100\n",
      "30/30 [==============================] - 3s 113ms/step - loss: 4.2338e-05\n",
      "Epoch 100/100\n",
      "30/30 [==============================] - 3s 108ms/step - loss: 4.6769e-05\n"
     ]
    },
    {
     "data": {
      "text/plain": [
       "<tensorflow.python.keras.callbacks.History at 0x2d8ba46f940>"
      ]
     },
     "execution_count": 27,
     "metadata": {},
     "output_type": "execute_result"
    }
   ],
   "source": [
    "#Train the model\n",
    "\n",
    "model.fit(X_train, y_train, batch_size=32, epochs=100)"
   ]
  },
  {
   "cell_type": "code",
   "execution_count": 28,
   "metadata": {},
   "outputs": [],
   "source": [
    "#Create the testing set\n",
    "\n",
    "test_set=scaled_data[1000 -60:, :]"
   ]
  },
  {
   "cell_type": "code",
   "execution_count": 29,
   "metadata": {},
   "outputs": [],
   "source": [
    "#Create the datasets x_test and y_test\n",
    "\n",
    "X_test= []                                \n",
    "y_test=dataset[1000:, :]     #Actual Values"
   ]
  },
  {
   "cell_type": "code",
   "execution_count": 30,
   "metadata": {},
   "outputs": [],
   "source": [
    "for i in range(60, len(test_set)):\n",
    "    X_test.append(test_set[i-60:i,0])"
   ]
  },
  {
   "cell_type": "code",
   "execution_count": 31,
   "metadata": {},
   "outputs": [],
   "source": [
    "#Convert the data to a NumPy array so that it can be used in the LSTM model\n",
    "\n",
    "X_test =np.array(X_test)"
   ]
  },
  {
   "cell_type": "code",
   "execution_count": 32,
   "metadata": {},
   "outputs": [],
   "source": [
    "#Reshape the data\n",
    "\n",
    "X_test= np.reshape(X_test, (X_test.shape[0], X_test.shape[1], 1))"
   ]
  },
  {
   "cell_type": "code",
   "execution_count": 33,
   "metadata": {},
   "outputs": [],
   "source": [
    "#Get the models predicted price values\n",
    "\n",
    "predictions=model.predict(X_test)"
   ]
  },
  {
   "cell_type": "code",
   "execution_count": 34,
   "metadata": {},
   "outputs": [],
   "source": [
    "#Now lets inverse transform the data\n",
    "\n",
    "predictions = scaler.inverse_transform(predictions)"
   ]
  },
  {
   "cell_type": "code",
   "execution_count": 35,
   "metadata": {},
   "outputs": [],
   "source": [
    "#Get the root mean squared error (RMSE or Standard Deviation)\n",
    "\n",
    "rmse = np.sqrt( np.mean( predictions - y_test)**2)"
   ]
  },
  {
   "cell_type": "code",
   "execution_count": 36,
   "metadata": {},
   "outputs": [
    {
     "data": {
      "text/plain": [
       "4.911238217500076"
      ]
     },
     "execution_count": 36,
     "metadata": {},
     "output_type": "execute_result"
    }
   ],
   "source": [
    "rmse"
   ]
  },
  {
   "cell_type": "code",
   "execution_count": 37,
   "metadata": {},
   "outputs": [
    {
     "name": "stderr",
     "output_type": "stream",
     "text": [
      "<ipython-input-37-efeef4fdef63>:4: SettingWithCopyWarning: \n",
      "A value is trying to be set on a copy of a slice from a DataFrame.\n",
      "Try using .loc[row_indexer,col_indexer] = value instead\n",
      "\n",
      "See the caveats in the documentation: https://pandas.pydata.org/pandas-docs/stable/user_guide/indexing.html#returning-a-view-versus-a-copy\n",
      "  valid['Predictions']= predictions\n"
     ]
    }
   ],
   "source": [
    "#Plot the data\n",
    "\n",
    "train= data[:1000]\n",
    "valid= data[1000:]\n",
    "valid['Predictions']= predictions"
   ]
  },
  {
   "cell_type": "code",
   "execution_count": 38,
   "metadata": {},
   "outputs": [
    {
     "data": {
      "image/png": "[encoded data removed]",
      "text/plain": [
       "<Figure size 1152x576 with 1 Axes>"
      ]
     },
     "metadata": {
      "needs_background": "light"
     },
     "output_type": "display_data"
    }
   ],
   "source": [
    "#Visualize the model\n",
    "\n",
    "plt.figure(figsize=(16,8))\n",
    "plt.title('Model')\n",
    "plt.xlabel('Index Values', fontsize=18)\n",
    "plt.ylabel('Close Price', fontsize=18)\n",
    "plt.plot(train['Close'])\n",
    "plt.plot(valid[['Close', 'Predictions']])\n",
    "plt.legend(['Train', 'Val', 'Predictions'], loc='lower right')\n",
    "plt.show()"
   ]
  },
  {
   "cell_type": "code",
   "execution_count": 39,
   "metadata": {},
   "outputs": [
    {
     "data": {
      "text/html": [
       "<div>\n",
       "<style scoped>\n",
       "    .dataframe tbody tr th:only-of-type {\n",
       "        vertical-align: middle;\n",
       "    }\n",
       "\n",
       "    .dataframe tbody tr th {\n",
       "        vertical-align: top;\n",
       "    }\n",
       "\n",
       "    .dataframe thead th {\n",
       "        text-align: right;\n",
       "    }\n",
       "</style>\n",
       "<table border=\"1\" class=\"dataframe\">\n",
       "  <thead>\n",
       "    <tr style=\"text-align: right;\">\n",
       "      <th></th>\n",
       "      <th>Close</th>\n",
       "      <th>Predictions</th>\n",
       "    </tr>\n",
       "  </thead>\n",
       "  <tbody>\n",
       "    <tr>\n",
       "      <th>1000</th>\n",
       "      <td>45.433998</td>\n",
       "      <td>44.533424</td>\n",
       "    </tr>\n",
       "    <tr>\n",
       "      <th>1001</th>\n",
       "      <td>44.910000</td>\n",
       "      <td>45.225697</td>\n",
       "    </tr>\n",
       "    <tr>\n",
       "      <th>1002</th>\n",
       "      <td>46.980000</td>\n",
       "      <td>44.792118</td>\n",
       "    </tr>\n",
       "    <tr>\n",
       "      <th>1003</th>\n",
       "      <td>46.619999</td>\n",
       "      <td>46.647442</td>\n",
       "    </tr>\n",
       "    <tr>\n",
       "      <th>1004</th>\n",
       "      <td>46.068001</td>\n",
       "      <td>46.474262</td>\n",
       "    </tr>\n",
       "    <tr>\n",
       "      <th>...</th>\n",
       "      <td>...</td>\n",
       "      <td>...</td>\n",
       "    </tr>\n",
       "    <tr>\n",
       "      <th>1254</th>\n",
       "      <td>241.731995</td>\n",
       "      <td>209.605911</td>\n",
       "    </tr>\n",
       "    <tr>\n",
       "      <th>1255</th>\n",
       "      <td>274.316010</td>\n",
       "      <td>228.067291</td>\n",
       "    </tr>\n",
       "    <tr>\n",
       "      <th>1256</th>\n",
       "      <td>277.971985</td>\n",
       "      <td>260.189117</td>\n",
       "    </tr>\n",
       "    <tr>\n",
       "      <th>1257</th>\n",
       "      <td>273.175995</td>\n",
       "      <td>251.828644</td>\n",
       "    </tr>\n",
       "    <tr>\n",
       "      <th>1258</th>\n",
       "      <td>278.855988</td>\n",
       "      <td>245.040833</td>\n",
       "    </tr>\n",
       "  </tbody>\n",
       "</table>\n",
       "<p>259 rows × 2 columns</p>\n",
       "</div>"
      ],
      "text/plain": [
       "           Close  Predictions\n",
       "1000   45.433998    44.533424\n",
       "1001   44.910000    45.225697\n",
       "1002   46.980000    44.792118\n",
       "1003   46.619999    46.647442\n",
       "1004   46.068001    46.474262\n",
       "...          ...          ...\n",
       "1254  241.731995   209.605911\n",
       "1255  274.316010   228.067291\n",
       "1256  277.971985   260.189117\n",
       "1257  273.175995   251.828644\n",
       "1258  278.855988   245.040833\n",
       "\n",
       "[259 rows x 2 columns]"
      ]
     },
     "execution_count": 39,
     "metadata": {},
     "output_type": "execute_result"
    }
   ],
   "source": [
    "#Show the valid and predicted prices\n",
    "\n",
    "valid"
   ]
  }
 ],
 "metadata": {
  "kernelspec": {
   "display_name": "Python 3",
   "language": "python",
   "name": "python3"
  },
  "language_info": {
   "codemirror_mode": {
    "name": "ipython",
    "version": 3
   },
   "file_extension": ".py",
   "mimetype": "text/x-python",
   "name": "python",
   "nbconvert_exporter": "python",
   "pygments_lexer": "ipython3",
   "version": "3.8.5"
  }
 },
 "nbformat": 4,
 "nbformat_minor": 4
}
